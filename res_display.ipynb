{
 "cells": [
  {
   "cell_type": "markdown",
   "metadata": {},
   "source": [
    "# Funkcje do operacji na wynikach"
   ]
  },
  {
   "cell_type": "code",
   "execution_count": 18,
   "metadata": {},
   "outputs": [],
   "source": [
    "import csv\n",
    "import matplotlib.pyplot as plt\n",
    "\n",
    "\n",
    "def read_csv(filepath):\n",
    "    with open(filepath, 'r') as file:\n",
    "        reader = csv.DictReader(file, delimiter=';')\n",
    "        data = [row for row in reader]\n",
    "    return data\n",
    "\n",
    "def calculate_averages(data):\n",
    "    total = {'Planks': 0, 'Wagons': 0, 'Wheels': 0, 'Passengers': 0}\n",
    "    repeat = int(data[0]['Repeat']) if data else 0\n",
    "    for row in data:\n",
    "        for key in total.keys():\n",
    "            total[key] += int(row[key])\n",
    "    averages = {key: total[key] / repeat for key in total.keys()}\n",
    "    return averages\n",
    "\n",
    "def plot_averages(averages_dict, x_values):\n",
    "    for key, values in averages_dict.items():\n",
    "        plt.plot(x_values, values, label=key)\n",
    "    plt.xlabel('x')\n",
    "    plt.ylabel('Number Of')\n",
    "    plt.title('Number Of Items vs x')\n",
    "    plt.legend(bbox_to_anchor=(1.05, 1), loc='upper left')\n",
    "    plt.show()\n",
    "\n",
    "def calculate_and_plot_averages(filepath, x_min, x_max, step):\n",
    "    x = x_min \n",
    "    averages_dict = {'Planks': [], 'Wagons': [], 'Wheels': [], 'Passengers': []}\n",
    "    x_values = []\n",
    "\n",
    "    while x < x_max:\n",
    "        data = read_csv(filepath + \"{:.6f}\".format(x) + \".csv\")\n",
    "        averages = calculate_averages(data)\n",
    "        for key in averages.keys():\n",
    "            averages_dict[key].append(averages[key])\n",
    "        x_values.append(x)\n",
    "        x += step\n",
    "    plot_averages(averages_dict, x_values)\n"
   ]
  },
  {
   "cell_type": "markdown",
   "metadata": {},
   "source": [
    "# Wyniki testu 1"
   ]
  },
  {
   "cell_type": "code",
   "execution_count": 19,
   "metadata": {},
   "outputs": [
    {
     "ename": "ValueError",
     "evalue": "invalid literal for int() with base 10: ''",
     "output_type": "error",
     "traceback": [
      "\u001b[1;31m---------------------------------------------------------------------------\u001b[0m",
      "\u001b[1;31mValueError\u001b[0m                                Traceback (most recent call last)",
      "Cell \u001b[1;32mIn[19], line 6\u001b[0m\n\u001b[0;32m      3\u001b[0m x_max \u001b[38;5;241m=\u001b[39m \u001b[38;5;241m0.940000\u001b[39m\n\u001b[0;32m      4\u001b[0m step \u001b[38;5;241m=\u001b[39m \u001b[38;5;241m0.010000\u001b[39m\n\u001b[1;32m----> 6\u001b[0m calculate_and_plot_averages(filepath, x_min, x_max, step)\n",
      "Cell \u001b[1;32mIn[18], line 38\u001b[0m, in \u001b[0;36mcalculate_and_plot_averages\u001b[1;34m(filepath, x_min, x_max, step)\u001b[0m\n\u001b[0;32m     36\u001b[0m \u001b[38;5;28;01mwhile\u001b[39;00m x \u001b[38;5;241m<\u001b[39m x_max:\n\u001b[0;32m     37\u001b[0m     data \u001b[38;5;241m=\u001b[39m read_csv(filepath \u001b[38;5;241m+\u001b[39m \u001b[38;5;124m\"\u001b[39m\u001b[38;5;132;01m{:.6f}\u001b[39;00m\u001b[38;5;124m\"\u001b[39m\u001b[38;5;241m.\u001b[39mformat(x) \u001b[38;5;241m+\u001b[39m \u001b[38;5;124m\"\u001b[39m\u001b[38;5;124m.csv\u001b[39m\u001b[38;5;124m\"\u001b[39m)\n\u001b[1;32m---> 38\u001b[0m     averages \u001b[38;5;241m=\u001b[39m calculate_averages(data)\n\u001b[0;32m     39\u001b[0m     \u001b[38;5;28;01mfor\u001b[39;00m key \u001b[38;5;129;01min\u001b[39;00m averages\u001b[38;5;241m.\u001b[39mkeys():\n\u001b[0;32m     40\u001b[0m         averages_dict[key]\u001b[38;5;241m.\u001b[39mappend(averages[key])\n",
      "Cell \u001b[1;32mIn[18], line 18\u001b[0m, in \u001b[0;36mcalculate_averages\u001b[1;34m(data)\u001b[0m\n\u001b[0;32m     16\u001b[0m \u001b[38;5;28;01mfor\u001b[39;00m row \u001b[38;5;129;01min\u001b[39;00m data:\n\u001b[0;32m     17\u001b[0m     \u001b[38;5;28;01mfor\u001b[39;00m key \u001b[38;5;129;01min\u001b[39;00m total\u001b[38;5;241m.\u001b[39mkeys():\n\u001b[1;32m---> 18\u001b[0m         total[key] \u001b[38;5;241m+\u001b[39m\u001b[38;5;241m=\u001b[39m \u001b[38;5;28mint\u001b[39m(row[key])\n\u001b[0;32m     19\u001b[0m averages \u001b[38;5;241m=\u001b[39m {key: total[key] \u001b[38;5;241m/\u001b[39m repeat \u001b[38;5;28;01mfor\u001b[39;00m key \u001b[38;5;129;01min\u001b[39;00m total\u001b[38;5;241m.\u001b[39mkeys()}\n\u001b[0;32m     20\u001b[0m \u001b[38;5;28;01mreturn\u001b[39;00m averages\n",
      "\u001b[1;31mValueError\u001b[0m: invalid literal for int() with base 10: ''"
     ]
    }
   ],
   "source": [
    "\n",
    "filepath = \"cmake-build-debug/Results/Test_v1/X=\"\n",
    "x_min = 0.010000\n",
    "x_max = 0.900000\n",
    "step = 0.010000\n",
    "\n",
    "calculate_and_plot_averages(filepath, x_min, x_max, step)"
   ]
  }
 ],
 "metadata": {
  "kernelspec": {
   "display_name": "DM",
   "language": "python",
   "name": "python3"
  },
  "language_info": {
   "codemirror_mode": {
    "name": "ipython",
    "version": 3
   },
   "file_extension": ".py",
   "mimetype": "text/x-python",
   "name": "python",
   "nbconvert_exporter": "python",
   "pygments_lexer": "ipython3",
   "version": "3.11.5"
  }
 },
 "nbformat": 4,
 "nbformat_minor": 2
}
